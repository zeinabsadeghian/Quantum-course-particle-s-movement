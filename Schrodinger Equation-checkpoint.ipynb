{
 "cells": [
  {
   "cell_type": "code",
   "execution_count": 95,
   "metadata": {},
   "outputs": [],
   "source": [
    "import matplotlib\n",
    "import pylab\n",
    "import matplotlib.pyplot as plt\n",
    "from matplotlib.animation import FuncAnimation\n",
    "import numpy as np"
   ]
  },
  {
   "cell_type": "code",
   "execution_count": 136,
   "metadata": {},
   "outputs": [],
   "source": [
    "hbar = 1.0e0 # hbar\n",
    "m = 1.0e0 # Mass of the Particle\n",
    "dx = 1.0e0 # Resolution of Spatial\n",
    "N = 3600 # Number of points\n",
    "T = 5*N # Number of iterations\n",
    "X = dx*np.linspace(0, N, N)\n",
    "V0 = 0.01 # Potential\n",
    "Thickness = 20 # For barrier\n",
    "sigma = 40.0 # Uncertantity\n",
    "k0 = np.pi/20 # Wavenumber\n",
    "x0 = round(N/3) - 5*sigma # Time shift in Guassian function\n",
    "E = (hbar**2/2.0/m)*(k0**2+0.5/sigma**2)"
   ]
  },
  {
   "cell_type": "code",
   "execution_count": 102,
   "metadata": {},
   "outputs": [],
   "source": [
    "def Gaussian(x, t, sigma): # Guassian Function for wave packet\n",
    "    return np.exp(-(x-t)**2/(2*sigma**2))\n",
    "\n",
    "def barrier(thickness, v0, NN):\n",
    "    v = np.zeros(NN)\n",
    "    for i in range(round(NN/2), round(NN/2) + thickness):\n",
    "        v[i] = v0\n",
    "    return v\n",
    "\n",
    "def hole(thickness, v0, NN):\n",
    "    v = np.zeros(NN)\n",
    "    for i in range(0, NN):\n",
    "        v[i] = v0\n",
    "    \n",
    "    for j in range(round(NN/2), round(NN/2) + thickness):\n",
    "        v[j] = 0\n",
    "        \n",
    "    return v\n",
    "\n",
    "def multiple_barriers(thickness, v0, NN):\n",
    "    v = np.zeros(NN)\n",
    "    for i in range(round(NN/3), round(NN/3) + thickness):\n",
    "        v[i] = v0\n",
    "        \n",
    "    for i in range(round(NN/3) + thickness + 200, round(NN/3) + 200 + 2*thickness):\n",
    "        v[i] = v0\n",
    "    return v\n",
    "    \n",
    "\n",
    "def step(NN, v0):\n",
    "    v = np.zeros(NN)\n",
    "    for i in range(round(NN/2), NN):\n",
    "        v[i] = v0\n",
    "    return v\n",
    "\n",
    "def free(npts):\n",
    "    return np.zeros(npts)\n",
    "\n",
    "def backwards_step(NN, v0):\n",
    "    v = np.zeros(NN)\n",
    "    for i in range(0, round(NN/2)):\n",
    "        v[i] = v0\n",
    "    return v\n",
    "    "
   ]
  },
  {
   "cell_type": "code",
   "execution_count": 137,
   "metadata": {},
   "outputs": [
    {
     "name": "stdout",
     "output_type": "stream",
     "text": [
      "1.000277854959711\n",
      "1.000277854959711\n"
     ]
    }
   ],
   "source": [
    "# initializations\n",
    "past = 0\n",
    "present = 1\n",
    "future = 2\n",
    "psi_im = np.zeros((3, N))\n",
    "psi_r = np.zeros((3, N))\n",
    "psi_p = np.zeros(N,)  \n",
    "# x-axis\n",
    "xn = range(1,round(N/2))\n",
    "x = X[xn]/dx\n",
    "print(x[0])\n",
    "print(X[1])\n",
    "# Functions initializations\n",
    "psi_im[past, xn] = np.sin(k0*x)*Gaussian(x, x0, sigma)\n",
    "psi_r[past, xn] = np.cos(k0*x)*Gaussian(x, x0, sigma)\n",
    "psi_im[present, xn] = np.sin(k0*x)*Gaussian(x, x0, sigma)\n",
    "psi_r[present, xn] = np.cos(k0*x)*Gaussian(x, x0, sigma)\n",
    "psi_p = psi_im[present]**2 + psi_r[present]**2\n",
    "# normalizations\n",
    "P   = dx * psi_p.sum()                      #  Total probability.\n",
    "nrm = np.sqrt(P)\n",
    "psi_r /= nrm\n",
    "psi_im /= nrm\n",
    "psi_p /= P"
   ]
  },
  {
   "cell_type": "code",
   "execution_count": 48,
   "metadata": {},
   "outputs": [
    {
     "data": {
      "text/plain": [
       "[<matplotlib.lines.Line2D at 0x22af0049710>]"
      ]
     },
     "execution_count": 48,
     "metadata": {},
     "output_type": "execute_result"
    },
    {
     "data": {
      "image/png": "[encoded data removed]",
      "text/plain": [
       "<Figure size 432x288 with 1 Axes>"
      ]
     },
     "metadata": {
      "needs_background": "light"
     },
     "output_type": "display_data"
    }
   ],
   "source": [
    "plt.plot(X, psi_p / P)"
   ]
  },
  {
   "cell_type": "code",
   "execution_count": 104,
   "metadata": {},
   "outputs": [],
   "source": [
    "energy = []\n",
    "for i in range(0,2400):\n",
    "    energy.append(E)"
   ]
  },
  {
   "cell_type": "code",
   "execution_count": 116,
   "metadata": {},
   "outputs": [
    {
     "data": {
      "text/plain": [
       "array([0.02, 0.02, 0.02, ..., 0.02, 0.02, 0.02])"
      ]
     },
     "execution_count": 116,
     "metadata": {},
     "output_type": "execute_result"
    }
   ],
   "source": [
    "V"
   ]
  },
  {
   "cell_type": "code",
   "execution_count": 122,
   "metadata": {},
   "outputs": [
    {
     "data": {
      "text/plain": [
       "[<matplotlib.lines.Line2D at 0x1fc25a1f588>]"
      ]
     },
     "execution_count": 122,
     "metadata": {},
     "output_type": "execute_result"
    },
    {
     "data": {
      "image/png": "[encoded data removed]",
      "text/plain": [
       "<Figure size 432x288 with 1 Axes>"
      ]
     },
     "metadata": {
      "needs_background": "light"
     },
     "output_type": "display_data"
    }
   ],
   "source": [
    "pylab.plot(X,V,'K',zorder=0)   "
   ]
  },
  {
   "cell_type": "code",
   "execution_count": 138,
   "metadata": {},
   "outputs": [],
   "source": [
    "#psi_im[past,:700]\n",
    "#V = step(2400, V0)\n",
    "#V = backwards_step(2400, V0)\n",
    "#V = free(2400)\n",
    "#V = barrier(30, V0, 3600)\n",
    "V = hole(600, V0, 3600)\n",
    "#V = multiple_barriers(30, V0, 2400)"
   ]
  },
  {
   "cell_type": "code",
   "execution_count": 77,
   "metadata": {},
   "outputs": [
    {
     "data": {
      "text/plain": [
       "array([0.02, 0.02, 0.02, ..., 0.02, 0.02, 0.02])"
      ]
     },
     "execution_count": 77,
     "metadata": {},
     "output_type": "execute_result"
    }
   ],
   "source": [
    "V_plot"
   ]
  },
  {
   "cell_type": "code",
   "execution_count": 165,
   "metadata": {},
   "outputs": [
    {
     "data": {
      "image/png": "[encoded data removed]",
      "text/plain": [
       "<Figure size 432x288 with 1 Axes>"
      ]
     },
     "metadata": {
      "needs_background": "light"
     },
     "output_type": "display_data"
    }
   ],
   "source": [
    "pylab.figure()\n",
    "xmin = X.min()\n",
    "xmax = X.max()\n",
    "Vmax = V.max()\n",
    "dt   = hbar/(2*hbar**2/(m*dx**2)+Vmax) # Critical dt\n",
    "c1 = ( hbar * dt )/( m*( dx**2 )) #coefficients of FTDT\n",
    "c2 = 2*dt / hbar #coefficients of FTDT\n",
    "ymax = 1.5*(psi_r[present]).max()\n",
    "pylab.axis([xmin,xmax,-ymax,ymax])\n",
    "\n",
    "lineR, = pylab.plot(X,psi_r[present],'b',alpha=0.7,label='Real')\n",
    "lineI, = pylab.plot(X,psi_im[present],'r',alpha=0.7,label='Imag')\n",
    "lineP, = pylab.plot(X,6*psi_p,'k',label='Prob')\n",
    "pylab.text(0.1, 0.109, 'Potential height: %.2e' % V0)\n",
    "pylab.text(0.1, 0.1, 'Energy level is: %s'% E)\n",
    "\n",
    "if Vmax !=0 :\n",
    "    # Scaling factor for energies, so they fit in the same plot as the\n",
    "    # wavefunctions\n",
    "    Efac = ymax/2.0/Vmax\n",
    "    V_plot = V\n",
    "    pylab.plot(X,V_plot,':k',zorder=0)   #  Potential line.\n",
    "    # Plot the wavefunction energy, in the same scale as the potential\n",
    "    pylab.axhline(E,color='g',label='Energy',zorder=1)\n",
    "    \n",
    "pylab.legend(loc='lower right')\n",
    "pylab.draw()\n"
   ]
  },
  {
   "cell_type": "code",
   "execution_count": 140,
   "metadata": {},
   "outputs": [
    {
     "data": {
      "text/plain": [
       "<Figure size 432x288 with 0 Axes>"
      ]
     },
     "metadata": {},
     "output_type": "display_data"
    }
   ],
   "source": [
    "c2V  = c2*V\n",
    "Tp = 50\n",
    "IDX1 = range(1,N-1)                            #  psi [ k ]\n",
    "IDX2 = range(2,N)                              #  psi [ k + 1 ]\n",
    "IDX3 = range(0,N-2)                            #  psi [ k - 1 ]\n",
    "psi_p_t = []\n",
    "psi_r_t = []\n",
    "psi_i_t = []\n",
    "\n",
    "for t in range(T+1):\n",
    "    psi_rPR = psi_r[present]\n",
    "    psi_iPR = psi_im[present]\n",
    "\n",
    "    psi_im[future,IDX1] = psi_im[past,IDX1] + \\\n",
    "                      c1*(psi_rPR[IDX2] - 2*psi_rPR[IDX1] +\n",
    "                          psi_rPR[IDX3])\n",
    "    psi_im[future] -= c2V*psi_r[present]\n",
    "\n",
    "    psi_r[future,IDX1] = psi_r[past,IDX1] - \\\n",
    "                      c1*(psi_iPR[IDX2] - 2*psi_iPR[IDX1] +\n",
    "                          psi_iPR[IDX3])\n",
    "    psi_r[future] += c2V*psi_im[present]\n",
    "    #  Increment the time steps.  PR -> PA and FU -> PR\n",
    "    psi_r[past] = psi_rPR\n",
    "    psi_r[present] = psi_r[future]\n",
    "    psi_im[past] = psi_iPR\n",
    "    psi_im[present] = psi_im[future]\n",
    "    #  Only plot after a few iterations to make the simulation run faster.\n",
    "    if t % Tp == 0:\n",
    "        #  Compute observable probability for the plot.\n",
    "        psi_p = psi_r[present]**2 + psi_im[present]**2\n",
    "        #  Update the plots.\n",
    "        lineR.set_ydata(psi_r[present])\n",
    "        lineI.set_ydata(psi_im[present])\n",
    "        psi_r_t.append(psi_r[present])\n",
    "        psi_i_t.append(psi_im[present])\n",
    "        \n",
    "        lineP.set_ydata(6*psi_p)\n",
    "        psi_p_t.append(6*psi_p)\n",
    "        \n",
    "        pylab.draw()\n",
    "\n",
    "pylab.ioff()\n",
    "pylab.show()"
   ]
  },
  {
   "cell_type": "code",
   "execution_count": null,
   "metadata": {},
   "outputs": [],
   "source": [
    "len(psi_p_t)"
   ]
  },
  {
   "cell_type": "code",
   "execution_count": null,
   "metadata": {},
   "outputs": [],
   "source": [
    "psi_p_t_c[0]"
   ]
  },
  {
   "cell_type": "code",
   "execution_count": 167,
   "metadata": {
    "scrolled": true
   },
   "outputs": [
    {
     "data": {
      "image/png": "[encoded data removed]",
      "text/plain": [
       "<Figure size 432x288 with 1 Axes>"
      ]
     },
     "metadata": {
      "needs_background": "light"
     },
     "output_type": "display_data"
    }
   ],
   "source": [
    "fig, ax = plt.subplots()\n",
    "xmin = X.min()\n",
    "xmax = X.max()\n",
    "ymax = 1.5*(psi_r[present]).max()\n",
    "xdata = []\n",
    "ydata = []\n",
    "\n",
    "if Vmax !=0 :\n",
    "    # Scaling factor for energies, so they fit in the same plot as the\n",
    "    # wavefunctions\n",
    "    #Efac = ymax/2.0/Vmax\n",
    "    V_plot = V\n",
    "    ax.plot(X,V_plot,':k',zorder=0)   #  Potential line.\n",
    "    # Plot the wavefunction energy, in the same scale as the potential\n",
    "    ax.axhline(E,color='g',label='Energy',zorder=1)\n",
    "\n",
    "ax.set_xlim(xmin,xmax)\n",
    "ax.set_ylim(-ymax,ymax)\n",
    "\n",
    "#line, = ax.plot([], [], 'b')\n",
    "#lineR, = ax.plot(X,psi_r_t[0],'b',alpha=0.7,label='Real')\n",
    "#lineI, = ax.plot(X,psi_i_t[0],'r',alpha=0.7,label='Imag')\n",
    "lineP, = ax.plot(X,psi_p,'k',label='Prob')\n",
    "pylab.text(0.1, 0.109, 'Potential height: %.2e' % V0)\n",
    "pylab.text(0.1, 0.1, 'Energy level is: %s'% E)\n",
    "\n",
    "\n",
    "\n",
    "patches = []\n",
    "patches.append(lineR)\n",
    "patches.append(lineI)\n",
    "patches.append(lineP)\n",
    "\n",
    "def init():\n",
    "    patches[0].set_data([], [])\n",
    "    patches[1].set_data([], [])\n",
    "    patches[2].set_data([], [])\n",
    "    return patches\n",
    "\n",
    "def update(i):\n",
    "    x = np.linspace(0, 3600, 3600)\n",
    "    y = psi_p_t[i]\n",
    "    yr = psi_r_t[i]\n",
    "    yi = psi_i_t[i]\n",
    "    patches[2].set_data(x, y)\n",
    "    patches[1].set_data(x, yi)\n",
    "    patches[0].set_data(x, yr)\n",
    "    \n",
    "    return patches\n",
    "\n",
    "\n",
    "ani = FuncAnimation(fig, update, init_func=init,\n",
    "                           frames=360, interval=50, blit=True)\n",
    "ani.save(\"sch_hole_2.mp4\")\n"
   ]
  }
 ],
 "metadata": {
  "kernelspec": {
   "display_name": "Python 3",
   "language": "python",
   "name": "python3"
  },
  "language_info": {
   "codemirror_mode": {
    "name": "ipython",
    "version": 3
   },
   "file_extension": ".py",
   "mimetype": "text/x-python",
   "name": "python",
   "nbconvert_exporter": "python",
   "pygments_lexer": "ipython3",
   "version": "3.5.6"
  }
 },
 "nbformat": 4,
 "nbformat_minor": 2
}
